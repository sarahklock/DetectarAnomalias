{
 "cells": [
  {
   "cell_type": "code",
   "execution_count": 15,
   "id": "b1102c43",
   "metadata": {},
   "outputs": [],
   "source": [
    "# Prolog - Auto Generated #\n",
    "import os, uuid, matplotlib\n",
    "matplotlib.use('Agg')\n",
    "import matplotlib.pyplot\n",
    "import pandas\n",
    "\n",
    "import sys\n",
    "sys.tracebacklimit = 0\n",
    "\n",
    "os.chdir(u'C:/Users/sarah/PythonEditorWrapper_bde63891-aa00-4387-8af5-e7657810f751')\n",
    "dataset = pandas.read_csv('input_df_34a61f17-bcd7-4f8f-b234-aed61d253f7c.csv')\n",
    "\n",
    "matplotlib.pyplot.figure(figsize=(5.55555555555556,4.16666666666667), dpi=72)\n",
    "matplotlib.pyplot.show = lambda args=None,kw=None: matplotlib.pyplot.savefig(str(uuid.uuid1()))\n",
    "# Original Script. Please update your script content here and once completed copy below section back to the original editing window \n",
    "#\n",
    "# O código a seguir para criar um dataframe e remover as linhas duplicadas sempre é executado e age como um preâmbulo para o script: \n",
    "\n",
    "# dataset = pandas.DataFrame(EPS, Ano, Trimestre, Mês, Dia)\n",
    "# dataset = dataset.drop_duplicates()"
   ]
  },
  {
   "cell_type": "code",
   "execution_count": 16,
   "id": "949a7923",
   "metadata": {},
   "outputs": [],
   "source": [
    "##Importações\n",
    "import pandas as pd\n",
    "import matplotlib.pyplot as plt\n",
    "import numpy as np\n",
    "\n",
    "#Convertendo a coluna EPS em float\n",
    "dataset[['EPS']] = dataset[['EPS']].replace(regex=r',', value='.') #substituindo ',' por '.'\n",
    "dataset[['EPS']] = dataset[['EPS']].apply(pd.to_numeric)  #transformando em numerico\n",
    "\n",
    "##Criando um dataframe com os os anos, os meses e os picos \n",
    "anos = []\n",
    "meses = []\n",
    "picos = []\n",
    "\n",
    "for i in dataset['Ano'].unique():\n",
    "  for j in dataset['Mês'].unique():\n",
    "    anos.append(i)\n",
    "    meses.append(j)\n",
    "    picos.append(dataset[dataset['Ano'] == i] [dataset['Mês'] == j] ['EPS'].max())"
   ]
  },
  {
   "cell_type": "code",
   "execution_count": 17,
   "id": "869e70be",
   "metadata": {},
   "outputs": [
    {
     "name": "stdout",
     "output_type": "stream",
     "text": [
      "[4, 2, 5, 3]\n"
     ]
    }
   ],
   "source": [
    "#Adicionando uma coluna com os valores numericos dos meses para que seja possivel ordenar\n",
    "#o DataFrame de acordo com o tempo.\n",
    "\n",
    "mesesInt = {'janeiro': 1,\n",
    "           'fevereiro': 2,\n",
    "            'março': 3,\n",
    "            'abril': 4,\n",
    "            'maio': 5,\n",
    "            'junho': 6,\n",
    "            'julho': 7,\n",
    "            'agosto': 8,\n",
    "            'setembro': 9,\n",
    "            'outubro': 10,\n",
    "            'novembro': 11,\n",
    "            'dezembro': 12}\n",
    "\n",
    "mesInt = []\n",
    "\n",
    "for i in meses:\n",
    "    mesInt.append(mesesInt[i])\n",
    "\n",
    "print(mesInt)"
   ]
  },
  {
   "cell_type": "code",
   "execution_count": 18,
   "id": "cca02ec2",
   "metadata": {},
   "outputs": [
    {
     "data": {
      "text/html": [
       "<div>\n",
       "<style scoped>\n",
       "    .dataframe tbody tr th:only-of-type {\n",
       "        vertical-align: middle;\n",
       "    }\n",
       "\n",
       "    .dataframe tbody tr th {\n",
       "        vertical-align: top;\n",
       "    }\n",
       "\n",
       "    .dataframe thead th {\n",
       "        text-align: right;\n",
       "    }\n",
       "</style>\n",
       "<table border=\"1\" class=\"dataframe\">\n",
       "  <thead>\n",
       "    <tr style=\"text-align: right;\">\n",
       "      <th></th>\n",
       "      <th>Pico</th>\n",
       "      <th>Ano</th>\n",
       "      <th>Mês</th>\n",
       "      <th>MêsInt</th>\n",
       "    </tr>\n",
       "  </thead>\n",
       "  <tbody>\n",
       "    <tr>\n",
       "      <th>0</th>\n",
       "      <td>269.0</td>\n",
       "      <td>2022</td>\n",
       "      <td>abril</td>\n",
       "      <td>4</td>\n",
       "    </tr>\n",
       "    <tr>\n",
       "      <th>1</th>\n",
       "      <td>505.0</td>\n",
       "      <td>2022</td>\n",
       "      <td>fevereiro</td>\n",
       "      <td>2</td>\n",
       "    </tr>\n",
       "    <tr>\n",
       "      <th>2</th>\n",
       "      <td>242.0</td>\n",
       "      <td>2022</td>\n",
       "      <td>maio</td>\n",
       "      <td>5</td>\n",
       "    </tr>\n",
       "    <tr>\n",
       "      <th>3</th>\n",
       "      <td>135.0</td>\n",
       "      <td>2022</td>\n",
       "      <td>março</td>\n",
       "      <td>3</td>\n",
       "    </tr>\n",
       "  </tbody>\n",
       "</table>\n",
       "</div>"
      ],
      "text/plain": [
       "    Pico   Ano        Mês  MêsInt\n",
       "0  269.0  2022      abril       4\n",
       "1  505.0  2022  fevereiro       2\n",
       "2  242.0  2022       maio       5\n",
       "3  135.0  2022      março       3"
      ]
     },
     "execution_count": 18,
     "metadata": {},
     "output_type": "execute_result"
    }
   ],
   "source": [
    "#Criando o dataframe\n",
    "datas_picos = pd.DataFrame({\n",
    "    'Pico': picos,\n",
    "    'Ano': anos,\n",
    "    'Mês': meses,\n",
    "    'MêsInt': mesInt,\n",
    "})\n",
    "\n",
    "datas_picos"
   ]
  },
  {
   "cell_type": "code",
   "execution_count": 19,
   "id": "ab5165fb",
   "metadata": {},
   "outputs": [
    {
     "data": {
      "text/html": [
       "<div>\n",
       "<style scoped>\n",
       "    .dataframe tbody tr th:only-of-type {\n",
       "        vertical-align: middle;\n",
       "    }\n",
       "\n",
       "    .dataframe tbody tr th {\n",
       "        vertical-align: top;\n",
       "    }\n",
       "\n",
       "    .dataframe thead th {\n",
       "        text-align: right;\n",
       "    }\n",
       "</style>\n",
       "<table border=\"1\" class=\"dataframe\">\n",
       "  <thead>\n",
       "    <tr style=\"text-align: right;\">\n",
       "      <th></th>\n",
       "      <th>Pico</th>\n",
       "      <th>Ano</th>\n",
       "      <th>Mês</th>\n",
       "      <th>MêsInt</th>\n",
       "      <th>Data</th>\n",
       "    </tr>\n",
       "  </thead>\n",
       "  <tbody>\n",
       "    <tr>\n",
       "      <th>0</th>\n",
       "      <td>505.0</td>\n",
       "      <td>2022</td>\n",
       "      <td>fevereiro</td>\n",
       "      <td>2</td>\n",
       "      <td>2-2022</td>\n",
       "    </tr>\n",
       "    <tr>\n",
       "      <th>1</th>\n",
       "      <td>135.0</td>\n",
       "      <td>2022</td>\n",
       "      <td>março</td>\n",
       "      <td>3</td>\n",
       "      <td>3-2022</td>\n",
       "    </tr>\n",
       "    <tr>\n",
       "      <th>2</th>\n",
       "      <td>269.0</td>\n",
       "      <td>2022</td>\n",
       "      <td>abril</td>\n",
       "      <td>4</td>\n",
       "      <td>4-2022</td>\n",
       "    </tr>\n",
       "    <tr>\n",
       "      <th>3</th>\n",
       "      <td>242.0</td>\n",
       "      <td>2022</td>\n",
       "      <td>maio</td>\n",
       "      <td>5</td>\n",
       "      <td>5-2022</td>\n",
       "    </tr>\n",
       "  </tbody>\n",
       "</table>\n",
       "</div>"
      ],
      "text/plain": [
       "    Pico   Ano        Mês  MêsInt    Data\n",
       "0  505.0  2022  fevereiro       2  2-2022\n",
       "1  135.0  2022      março       3  3-2022\n",
       "2  269.0  2022      abril       4  4-2022\n",
       "3  242.0  2022       maio       5  5-2022"
      ]
     },
     "execution_count": 19,
     "metadata": {},
     "output_type": "execute_result"
    }
   ],
   "source": [
    "#Adicionando coluna com a data no formato 'mes-ano'\n",
    "datas_picos['Data'] = datas_picos['MêsInt'].astype(str) + '-' + datas_picos['Ano'].astype(str)\n",
    "\n",
    "datas_picos = datas_picos.sort_values(by=['Ano', 'MêsInt'])\n",
    "datas_picos = datas_picos.reset_index(drop=True)\n",
    "datas_picos"
   ]
  },
  {
   "cell_type": "code",
   "execution_count": 20,
   "id": "39616cb0",
   "metadata": {},
   "outputs": [
    {
     "name": "stdout",
     "output_type": "stream",
     "text": [
      "[False  True  True False] [ True  True False  True] [ True False  True  True]\n"
     ]
    }
   ],
   "source": [
    "# Identificando que valores estão dentro, acima ou abaixo do padrão, considerando o mes anterior\n",
    "    #Acima: mais de 50% maior que o mês anterior\n",
    "    #Abaixo: mais de 50% menor que o mês anterior\n",
    "\n",
    "supper = np.ma.masked_array([datas_picos.iloc[0, 0]], mask=[True]) #Valores acima (anomalias)\n",
    "slower = np.ma.masked_array([datas_picos.iloc[0, 0]], mask=[True]) #Valores abaixo (anomalias)\n",
    "smiddle = np.ma.masked_array([datas_picos.iloc[0, 0]], mask=[False]) #Valores dentro \n",
    "\n",
    "for i in datas_picos.index[1:]:  \n",
    "  upper = datas_picos.iloc[(i-1), 0] * 1.5 #limite superior de anomalias \n",
    "  lower = datas_picos.iloc[(i-1), 0] * 0.5 #limite inferior de anomalias\n",
    "\n",
    "  atual = datas_picos.iloc[i, 0] #ponto em questao\n",
    "\n",
    "  #Criando listas mascaradas \n",
    "  supper = np.ma.append(supper, np.ma.masked_array([atual], mask=[atual < upper]))\n",
    "  slower = np.ma.append(slower, np.ma.masked_array([atual], mask=[atual > lower]))\n",
    "  smiddle = np.ma.append(smiddle, np.ma.masked_array([atual], mask=[(atual < lower) | (atual > upper)]))\n",
    "\n",
    "print(smiddle.mask, supper.mask, slower.mask)"
   ]
  },
  {
   "cell_type": "code",
   "execution_count": 21,
   "id": "64ab9c1d",
   "metadata": {},
   "outputs": [],
   "source": [
    "%matplotlib inline"
   ]
  },
  {
   "cell_type": "code",
   "execution_count": 22,
   "id": "0a1ba6d0",
   "metadata": {},
   "outputs": [],
   "source": [
    "#Funcao que plota uma seta e um texto indicando anomalias superiores\n",
    "def anomalias_superiores(i):\n",
    "    ax.annotate('Anomalia',\n",
    "                    xy=(datas[i], supper.data[i]), \n",
    "                    xytext=(datas[i], supper.data[i] - (slower.data.max() - slower.data.min())/7), textcoords='data',\n",
    "                    arrowprops=dict(facecolor='black', shrink=0.05),\n",
    "                    horizontalalignment='center', verticalalignment='top')"
   ]
  },
  {
   "cell_type": "code",
   "execution_count": 23,
   "id": "c993e7fc",
   "metadata": {},
   "outputs": [],
   "source": [
    "#Funcao que plota uma seta e um texto indicando anomalias inferiores\n",
    "def anomalias_inferiores(i):\n",
    "    ax.annotate('Anomalia',\n",
    "                xy=(datas[i], slower.data[i]), \n",
    "                xytext=(datas[i], slower.data[i] + (slower.data.max() - slower.data.min())/5.6), textcoords='data',\n",
    "                arrowprops=dict(facecolor='black', shrink=0.05),\n",
    "                horizontalalignment='center', verticalalignment='top')\n",
    "            "
   ]
  },
  {
   "cell_type": "code",
   "execution_count": 27,
   "id": "eb0bffc6",
   "metadata": {},
   "outputs": [
    {
     "data": {
      "image/png": "[encoded data removed]",
      "text/plain": [
       "<Figure size 864x432 with 1 Axes>"
      ]
     },
     "metadata": {
      "needs_background": "light"
     },
     "output_type": "display_data"
    }
   ],
   "source": [
    "##Plotando o grafico\n",
    "datas = datas_picos['Data']\n",
    "fig, ax = plt.subplots(figsize=(12,6))\n",
    "plt.title('Picos de EPS por meses')\n",
    "plt.ylabel('EPS')\n",
    "#plt.figure(figsize=(10,10))\n",
    "\n",
    "#Quando todos os pontos estiverem na mesma categoria (todos padrão, anomalos para cima ou anomalos \n",
    "#para baixo), o .mask será uma variável escalavel contendo False, impossível de se percorrer.\n",
    "#Então, inicialmente, serão tratados esses casos, para posterioremente nao ter erro de index.\n",
    "\n",
    "#Caso todos os pontos estiverem dentro do padrao\n",
    "if type(smiddle.mask) == np.bool_ and smiddle.mask == False:\n",
    "    plt.plot(datas, smiddle.data, color='purple')\n",
    "\n",
    "#Caso todos os pontos estiverem acima do padrão\n",
    "elif type(supper.mask) == np.bool_ and supper.mask == False:\n",
    "    plt.plot(datas, supper.data, color='red')\n",
    "    \n",
    "    for i in range(len(supper))[1:]:\n",
    "        anomalias_superiores(i)\n",
    "\n",
    "#Caso todos os pontos estiverem abaixo do padrão    \n",
    "elif type(slower.mask) == np.bool_ and slower.mask == False:\n",
    "    plt.plot(datas, slower.data, color='green')\n",
    "    \n",
    "    for i in range(len(slower))[1:]:\n",
    "        anomalias_inferiores(i)\n",
    "\n",
    "else:\n",
    "    for i in range(len(smiddle))[1:]:\n",
    "\n",
    "        #As linhas normais serão plotadas em roxo\n",
    "        if ~(type(smiddle.mask) == np.bool_) and ~smiddle.mask[i]:\n",
    "            plt.plot(datas[i-1 : i+1], smiddle.data[i-1 : i+1], color='purple')\n",
    "\n",
    "        #As linhas que levam a anomalias superiores serão plotadas em vermelho\n",
    "        elif ~supper.mask[i]:\n",
    "            plt.plot(datas[i-1 : i+1], supper.data[i-1 : i+1], color='red')\n",
    "\n",
    "            #Seta e anotação\n",
    "            anomalias_superiores(i);\n",
    "\n",
    "        #As linhas que levam a anomalias inferiores serão plotadas em verde\n",
    "        elif ~slower.mask[i]:\n",
    "            plt.plot(datas[i-1 : i+1], slower.data[i-1 : i+1], color='green')\n",
    "\n",
    "            #Seta e anotação\n",
    "            anomalias_inferiores(i)     \n",
    "\n",
    "plt.show()"
   ]
  }
 ],
 "metadata": {
  "interpreter": {
   "hash": "ac019dee71ffef3809770ffe242ff2d710330653f213693e1080cdb322017d07"
  },
  "kernelspec": {
   "display_name": "Python 3.10.4 64-bit (windows store)",
   "language": "python",
   "name": "python3"
  },
  "language_info": {
   "codemirror_mode": {
    "name": "ipython",
    "version": 3
   },
   "file_extension": ".py",
   "mimetype": "text/x-python",
   "name": "python",
   "nbconvert_exporter": "python",
   "pygments_lexer": "ipython3",
   "version": "3.10.4"
  }
 },
 "nbformat": 4,
 "nbformat_minor": 5
}
